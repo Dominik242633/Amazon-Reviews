{
 "cells": [
  {
   "cell_type": "markdown",
   "id": "cc83a619",
   "metadata": {},
   "source": [
    "# Web data: Amazon reviews"
   ]
  },
  {
   "cell_type": "markdown",
   "id": "1df922cb",
   "metadata": {},
   "source": [
    "Opis danych ze strony http://snap.stanford.edu/data/web-Amazon-links.html\n",
    "- product/productId: asin, e.g. amazon.com/dp/B00006HAXW\n",
    "- product/title: title of the product\n",
    "- product/price: price of the product\n",
    "- review/userId: id of the user, e.g. A1RSDE90N6RSZF\n",
    "- review/profileName: name of the user\n",
    "- review/helpfulness: fraction of users who found the review helpful\n",
    "- review/score: rating of the product\n",
    "- review/time: time of the review (unix time)\n",
    "- review/summary: review summary\n",
    "- review/text: text of the review \n",
    "\n",
    "# Import potrzebnych modułów"
   ]
  },
  {
   "cell_type": "code",
   "execution_count": 1,
   "id": "7fd9eea0",
   "metadata": {},
   "outputs": [],
   "source": [
    "import numpy as np\n",
    "import matplotlib.pyplot as plt\n",
    "import pandas as pd\n",
    "import gzip\n",
    "import simplejson\n",
    "from datetime import datetime, date\n",
    "from itertools import combinations\n",
    "from collections import Counter\n",
    "pd.set_option(\"display.precision\", 4)\n",
    "plt.style.use('ggplot')\n",
    "%matplotlib inline"
   ]
  },
  {
   "cell_type": "markdown",
   "id": "1bfac9de",
   "metadata": {},
   "source": [
    "# Załadowanie danych do Pandas DataFrame"
   ]
  },
  {
   "cell_type": "code",
   "execution_count": 2,
   "id": "b8a12696",
   "metadata": {},
   "outputs": [
    {
     "data": {
      "text/html": [
       "<div>\n",
       "<style scoped>\n",
       "    .dataframe tbody tr th:only-of-type {\n",
       "        vertical-align: middle;\n",
       "    }\n",
       "\n",
       "    .dataframe tbody tr th {\n",
       "        vertical-align: top;\n",
       "    }\n",
       "\n",
       "    .dataframe thead th {\n",
       "        text-align: right;\n",
       "    }\n",
       "</style>\n",
       "<table border=\"1\" class=\"dataframe\">\n",
       "  <thead>\n",
       "    <tr style=\"text-align: right;\">\n",
       "      <th></th>\n",
       "      <th>product/productId</th>\n",
       "      <th>product/title</th>\n",
       "      <th>product/price</th>\n",
       "      <th>review/userId</th>\n",
       "      <th>review/profileName</th>\n",
       "      <th>review/helpfulness</th>\n",
       "      <th>review/score</th>\n",
       "      <th>review/time</th>\n",
       "      <th>review/summary</th>\n",
       "      <th>review/text</th>\n",
       "    </tr>\n",
       "  </thead>\n",
       "  <tbody>\n",
       "    <tr>\n",
       "      <th>0</th>\n",
       "      <td>B000JVER7W</td>\n",
       "      <td>Mobile Action MA730 Handset Manager - Bluetoot...</td>\n",
       "      <td>unknown</td>\n",
       "      <td>A1RXYH9ROBAKEZ</td>\n",
       "      <td>A. Igoe</td>\n",
       "      <td>0/0</td>\n",
       "      <td>1.0</td>\n",
       "      <td>1233360000</td>\n",
       "      <td>Don't buy!</td>\n",
       "      <td>First of all, the company took my money and se...</td>\n",
       "    </tr>\n",
       "    <tr>\n",
       "      <th>1</th>\n",
       "      <td>B000JVER7W</td>\n",
       "      <td>Mobile Action MA730 Handset Manager - Bluetoot...</td>\n",
       "      <td>unknown</td>\n",
       "      <td>A7L6E1KSJTAJ6</td>\n",
       "      <td>Steven Martz</td>\n",
       "      <td>0/0</td>\n",
       "      <td>5.0</td>\n",
       "      <td>1191456000</td>\n",
       "      <td>Mobile Action Bluetooth Mobile Phone Tool Soft...</td>\n",
       "      <td>Great product- tried others and this is a ten ...</td>\n",
       "    </tr>\n",
       "    <tr>\n",
       "      <th>2</th>\n",
       "      <td>B000JVER7W</td>\n",
       "      <td>Mobile Action MA730 Handset Manager - Bluetoot...</td>\n",
       "      <td>unknown</td>\n",
       "      <td>A2NOQQ7I6PU7CW</td>\n",
       "      <td>Daniel M. Johnson \"rocknbluesharp\"</td>\n",
       "      <td>0/0</td>\n",
       "      <td>4.0</td>\n",
       "      <td>1186704000</td>\n",
       "      <td>good</td>\n",
       "      <td>works real good....a little hard to set up...w...</td>\n",
       "    </tr>\n",
       "    <tr>\n",
       "      <th>3</th>\n",
       "      <td>B000924R5I</td>\n",
       "      <td>USB Data Cable for Sony-Ericsson Z600, Z500, Z...</td>\n",
       "      <td>unknown</td>\n",
       "      <td>A29Q0CLOF0U8BN</td>\n",
       "      <td>E. Owens</td>\n",
       "      <td>4/5</td>\n",
       "      <td>4.0</td>\n",
       "      <td>1146182400</td>\n",
       "      <td>No instructions included...</td>\n",
       "      <td>The price was right for this cable ($11.95+$4....</td>\n",
       "    </tr>\n",
       "    <tr>\n",
       "      <th>4</th>\n",
       "      <td>B000924R5I</td>\n",
       "      <td>USB Data Cable for Sony-Ericsson Z600, Z500, Z...</td>\n",
       "      <td>unknown</td>\n",
       "      <td>ANNHJND2MHUI3</td>\n",
       "      <td>Isaac Salas \"=CRBF=gB^link\"</td>\n",
       "      <td>0/0</td>\n",
       "      <td>1.0</td>\n",
       "      <td>1173657600</td>\n",
       "      <td>NOT A DATA CABLE</td>\n",
       "      <td>this is NOT a DATA CABLE this is only a USB ch...</td>\n",
       "    </tr>\n",
       "  </tbody>\n",
       "</table>\n",
       "</div>"
      ],
      "text/plain": [
       "  product/productId                                      product/title  \\\n",
       "0        B000JVER7W  Mobile Action MA730 Handset Manager - Bluetoot...   \n",
       "1        B000JVER7W  Mobile Action MA730 Handset Manager - Bluetoot...   \n",
       "2        B000JVER7W  Mobile Action MA730 Handset Manager - Bluetoot...   \n",
       "3        B000924R5I  USB Data Cable for Sony-Ericsson Z600, Z500, Z...   \n",
       "4        B000924R5I  USB Data Cable for Sony-Ericsson Z600, Z500, Z...   \n",
       "\n",
       "  product/price   review/userId                  review/profileName  \\\n",
       "0       unknown  A1RXYH9ROBAKEZ                             A. Igoe   \n",
       "1       unknown   A7L6E1KSJTAJ6                        Steven Martz   \n",
       "2       unknown  A2NOQQ7I6PU7CW  Daniel M. Johnson \"rocknbluesharp\"   \n",
       "3       unknown  A29Q0CLOF0U8BN                            E. Owens   \n",
       "4       unknown   ANNHJND2MHUI3         Isaac Salas \"=CRBF=gB^link\"   \n",
       "\n",
       "  review/helpfulness review/score review/time  \\\n",
       "0                0/0          1.0  1233360000   \n",
       "1                0/0          5.0  1191456000   \n",
       "2                0/0          4.0  1186704000   \n",
       "3                4/5          4.0  1146182400   \n",
       "4                0/0          1.0  1173657600   \n",
       "\n",
       "                                      review/summary  \\\n",
       "0                                         Don't buy!   \n",
       "1  Mobile Action Bluetooth Mobile Phone Tool Soft...   \n",
       "2                                               good   \n",
       "3                        No instructions included...   \n",
       "4                                   NOT A DATA CABLE   \n",
       "\n",
       "                                         review/text  \n",
       "0  First of all, the company took my money and se...  \n",
       "1  Great product- tried others and this is a ten ...  \n",
       "2  works real good....a little hard to set up...w...  \n",
       "3  The price was right for this cable ($11.95+$4....  \n",
       "4  this is NOT a DATA CABLE this is only a USB ch...  "
      ]
     },
     "execution_count": 2,
     "metadata": {},
     "output_type": "execute_result"
    }
   ],
   "source": [
    "def parse(filename):\n",
    "    f = gzip.open(filename, 'rt')\n",
    "    entry = {}\n",
    "    for l in f:\n",
    "        l = l.strip()\n",
    "        colonPos = l.find(':')\n",
    "        if colonPos == -1:\n",
    "            yield entry\n",
    "            entry = {}\n",
    "            continue\n",
    "        eName = l[:colonPos]\n",
    "        rest = l[colonPos+2:]\n",
    "        entry[eName] = rest\n",
    "    yield entry\n",
    "\n",
    "\n",
    "def getDF(path):\n",
    "    i = 0\n",
    "    df = {}\n",
    "    for d in parse(path):\n",
    "        df[i] = d\n",
    "        i += 1\n",
    "    return pd.DataFrame.from_dict(df, orient='index')\n",
    "\n",
    "\n",
    "df = getDF('Cell_Phones_&_Accessories.txt.gz')\n",
    "df.head()"
   ]
  },
  {
   "cell_type": "markdown",
   "id": "d5498d87",
   "metadata": {},
   "source": [
    "# Preprocessing danych"
   ]
  },
  {
   "cell_type": "markdown",
   "id": "02410da0",
   "metadata": {},
   "source": [
    "Zmiana typów danych"
   ]
  },
  {
   "cell_type": "code",
   "execution_count": 3,
   "id": "0ba62754",
   "metadata": {},
   "outputs": [
    {
     "name": "stdout",
     "output_type": "stream",
     "text": [
      "Rozmiar zbioru danych: (78930, 10)\n"
     ]
    }
   ],
   "source": [
    "df[\"review/score\"] = df[\"review/score\"].astype(\"float64\")\n",
    "\n",
    "print(\"Rozmiar zbioru danych: \" + str(df.shape))"
   ]
  },
  {
   "cell_type": "markdown",
   "id": "1fcb9f05",
   "metadata": {},
   "source": [
    "Wypisanie oraz usunięcie zduplikowanych rekordów"
   ]
  },
  {
   "cell_type": "code",
   "execution_count": 4,
   "id": "a2b9c422",
   "metadata": {},
   "outputs": [
    {
     "name": "stdout",
     "output_type": "stream",
     "text": [
      "Liczba zduplikowanych rekordów: 36\n",
      "Zduplikowane rekordy: \n"
     ]
    },
    {
     "data": {
      "text/html": [
       "<div>\n",
       "<style scoped>\n",
       "    .dataframe tbody tr th:only-of-type {\n",
       "        vertical-align: middle;\n",
       "    }\n",
       "\n",
       "    .dataframe tbody tr th {\n",
       "        vertical-align: top;\n",
       "    }\n",
       "\n",
       "    .dataframe thead th {\n",
       "        text-align: right;\n",
       "    }\n",
       "</style>\n",
       "<table border=\"1\" class=\"dataframe\">\n",
       "  <thead>\n",
       "    <tr style=\"text-align: right;\">\n",
       "      <th></th>\n",
       "      <th>product/productId</th>\n",
       "      <th>product/title</th>\n",
       "      <th>product/price</th>\n",
       "      <th>review/userId</th>\n",
       "      <th>review/profileName</th>\n",
       "      <th>review/helpfulness</th>\n",
       "      <th>review/score</th>\n",
       "      <th>review/time</th>\n",
       "      <th>review/summary</th>\n",
       "      <th>review/text</th>\n",
       "    </tr>\n",
       "  </thead>\n",
       "  <tbody>\n",
       "    <tr>\n",
       "      <th>90</th>\n",
       "      <td>B00004WINT</td>\n",
       "      <td>Jabra EarGels - Clear</td>\n",
       "      <td>9.70</td>\n",
       "      <td>A37XJZF145XH5B</td>\n",
       "      <td>A. Trujillo</td>\n",
       "      <td>4/4</td>\n",
       "      <td>5.0</td>\n",
       "      <td>1214265600</td>\n",
       "      <td>Comfort at last</td>\n",
       "      <td>I bought these eargels for my bluetooth, which...</td>\n",
       "    </tr>\n",
       "    <tr>\n",
       "      <th>5248</th>\n",
       "      <td>B00074V0JY</td>\n",
       "      <td>Motorola Lithium-Ion Battery BR50 / SNN5696 / ...</td>\n",
       "      <td>4.51</td>\n",
       "      <td>A2JKD82K7NWK1U</td>\n",
       "      <td>R. Badger \"Knower of All, Master of None\"</td>\n",
       "      <td>3/3</td>\n",
       "      <td>5.0</td>\n",
       "      <td>1154822400</td>\n",
       "      <td>GREAT battery</td>\n",
       "      <td>Oredered this battery thinking it was the olde...</td>\n",
       "    </tr>\n",
       "    <tr>\n",
       "      <th>6108</th>\n",
       "      <td>B00006I9SY</td>\n",
       "      <td>Plantronics M1500 Bluetooth Headset With Adapt...</td>\n",
       "      <td>unknown</td>\n",
       "      <td>unknown</td>\n",
       "      <td>unknown</td>\n",
       "      <td>2/6</td>\n",
       "      <td>1.0</td>\n",
       "      <td>1051660800</td>\n",
       "      <td>Uncomfortable earpiece..</td>\n",
       "      <td>The product works fine but the earpiece is way...</td>\n",
       "    </tr>\n",
       "  </tbody>\n",
       "</table>\n",
       "</div>"
      ],
      "text/plain": [
       "     product/productId                                      product/title  \\\n",
       "90          B00004WINT                              Jabra EarGels - Clear   \n",
       "5248        B00074V0JY  Motorola Lithium-Ion Battery BR50 / SNN5696 / ...   \n",
       "6108        B00006I9SY  Plantronics M1500 Bluetooth Headset With Adapt...   \n",
       "\n",
       "     product/price   review/userId                         review/profileName  \\\n",
       "90            9.70  A37XJZF145XH5B                                A. Trujillo   \n",
       "5248          4.51  A2JKD82K7NWK1U  R. Badger \"Knower of All, Master of None\"   \n",
       "6108       unknown         unknown                                    unknown   \n",
       "\n",
       "     review/helpfulness  review/score review/time            review/summary  \\\n",
       "90                  4/4           5.0  1214265600           Comfort at last   \n",
       "5248                3/3           5.0  1154822400             GREAT battery   \n",
       "6108                2/6           1.0  1051660800  Uncomfortable earpiece..   \n",
       "\n",
       "                                            review/text  \n",
       "90    I bought these eargels for my bluetooth, which...  \n",
       "5248  Oredered this battery thinking it was the olde...  \n",
       "6108  The product works fine but the earpiece is way...  "
      ]
     },
     "execution_count": 4,
     "metadata": {},
     "output_type": "execute_result"
    }
   ],
   "source": [
    "duplicated_rows_df = df[df.duplicated()]\n",
    "print(\"Liczba zduplikowanych rekordów: \" + str(duplicated_rows_df.shape[0]))\n",
    "print(\"Zduplikowane rekordy: \")\n",
    "duplicated_rows_df.head(3)"
   ]
  },
  {
   "cell_type": "code",
   "execution_count": 5,
   "id": "3e74c9fb",
   "metadata": {},
   "outputs": [
    {
     "name": "stdout",
     "output_type": "stream",
     "text": [
      "Rozmiar zbioru po usunięciu duplikatów: (78894, 10)\n"
     ]
    }
   ],
   "source": [
    "df.drop_duplicates(keep=\"first\", inplace=True)\n",
    "print(\"Rozmiar zbioru po usunięciu duplikatów: \" + str(df.shape))"
   ]
  },
  {
   "cell_type": "markdown",
   "id": "928faf1a",
   "metadata": {},
   "source": [
    "Utworzenie dodatkowych kolumn"
   ]
  },
  {
   "cell_type": "code",
   "execution_count": 6,
   "id": "4a531405",
   "metadata": {},
   "outputs": [],
   "source": [
    "# Dodanie kolumny zawierającej długość tekstu\n",
    "df['text_length'] = df['review/text'].apply(len)\n",
    "\n",
    "# Kolumna zawierająca wartości 0 i 1. Jeżeli opinia była negatywna, miała opinię mniejszą lub równą 3, przypisywana\n",
    "#                                                                            jest wartość 0, 1 w reszcie przypadków)\n",
    "df['score_bool'] = df['review/score'].apply(lambda row: 0 if row <= 3.0 else 1)\n",
    "\n",
    "# Kolumna zamieniająca format daty\n",
    "df['date'] = pd.to_datetime(df['review/time'], unit='s')\n",
    "\n",
    "# Kolumny zawierające rok, miesiąc, dzień oraz dzień tygodnia - pomocne przy późniejszych analizach\n",
    "df['year'] = df['date'].dt.year\n",
    "df['month'] = df['date'].dt.month\n",
    "df['day'] = df['date'].dt.day\n",
    "df['weekday'] = df['date'].dt.weekday\n",
    "\n",
    "# Kolumny zawierające przydatność opinii\n",
    "df['good_helpfulness'] = df['review/helpfulness'].apply(lambda row: row.split('/')[0]) # Ilość osób, która uważa opinię za użyteczną\n",
    "df['all_helpfulness'] = df['review/helpfulness'].apply(lambda row: row.split('/')[1]) # Ilość osób, która oceniła opinię\n",
    "\n",
    "df['good_helpfulness'] = df['good_helpfulness'].astype(\"int64\")\n",
    "df['all_helpfulness'] = df['all_helpfulness'].astype(\"int64\")"
   ]
  },
  {
   "cell_type": "markdown",
   "id": "9c7ae53a",
   "metadata": {},
   "source": [
    "Usunięcie niepotrzebnych kolumn oraz zamiana nazw istniejących"
   ]
  },
  {
   "cell_type": "code",
   "execution_count": 7,
   "id": "284866a9",
   "metadata": {},
   "outputs": [],
   "source": [
    "df.drop(['product/productId', 'review/profileName', 'review/helpfulness', 'review/time'], axis=1, inplace=True)\n",
    "\n",
    "df.rename(columns={'product/title': 'title', 'product/price': 'price', 'review/userId': 'user_id',\n",
    "           'review/score': 'score', 'review/summary': 'summary', 'review/text': 'text'}, inplace=True)"
   ]
  },
  {
   "cell_type": "markdown",
   "id": "c36f1555",
   "metadata": {},
   "source": [
    "Przekształcenie tekstu"
   ]
  },
  {
   "cell_type": "code",
   "execution_count": 8,
   "id": "065fefa7",
   "metadata": {},
   "outputs": [],
   "source": [
    "# Usunięcie spacji na początku i na końcu tytułu oraz zamiana na małe litery\n",
    "df['title'] = df['title'].apply(lambda x: x.strip().lower())\n",
    "\n",
    "# Późniejsza analiza wykazała, że ponad 500 rekordów nie posiada nazw produktu, takie rekordy się nie przydadzą\n",
    "df = df[df['title'] != '']"
   ]
  },
  {
   "cell_type": "markdown",
   "id": "d85956ab",
   "metadata": {},
   "source": [
    "Wygląd danych po przekształceniach"
   ]
  },
  {
   "cell_type": "code",
   "execution_count": 9,
   "id": "6047dc71",
   "metadata": {},
   "outputs": [
    {
     "data": {
      "text/html": [
       "<div>\n",
       "<style scoped>\n",
       "    .dataframe tbody tr th:only-of-type {\n",
       "        vertical-align: middle;\n",
       "    }\n",
       "\n",
       "    .dataframe tbody tr th {\n",
       "        vertical-align: top;\n",
       "    }\n",
       "\n",
       "    .dataframe thead th {\n",
       "        text-align: right;\n",
       "    }\n",
       "</style>\n",
       "<table border=\"1\" class=\"dataframe\">\n",
       "  <thead>\n",
       "    <tr style=\"text-align: right;\">\n",
       "      <th></th>\n",
       "      <th>title</th>\n",
       "      <th>price</th>\n",
       "      <th>user_id</th>\n",
       "      <th>score</th>\n",
       "      <th>summary</th>\n",
       "      <th>text</th>\n",
       "      <th>text_length</th>\n",
       "      <th>score_bool</th>\n",
       "      <th>date</th>\n",
       "      <th>year</th>\n",
       "      <th>month</th>\n",
       "      <th>day</th>\n",
       "      <th>weekday</th>\n",
       "      <th>good_helpfulness</th>\n",
       "      <th>all_helpfulness</th>\n",
       "    </tr>\n",
       "  </thead>\n",
       "  <tbody>\n",
       "    <tr>\n",
       "      <th>0</th>\n",
       "      <td>mobile action ma730 handset manager - bluetoot...</td>\n",
       "      <td>unknown</td>\n",
       "      <td>A1RXYH9ROBAKEZ</td>\n",
       "      <td>1.0</td>\n",
       "      <td>Don't buy!</td>\n",
       "      <td>First of all, the company took my money and se...</td>\n",
       "      <td>716</td>\n",
       "      <td>0</td>\n",
       "      <td>2009-01-31</td>\n",
       "      <td>2009</td>\n",
       "      <td>1</td>\n",
       "      <td>31</td>\n",
       "      <td>5</td>\n",
       "      <td>0</td>\n",
       "      <td>0</td>\n",
       "    </tr>\n",
       "    <tr>\n",
       "      <th>1</th>\n",
       "      <td>mobile action ma730 handset manager - bluetoot...</td>\n",
       "      <td>unknown</td>\n",
       "      <td>A7L6E1KSJTAJ6</td>\n",
       "      <td>5.0</td>\n",
       "      <td>Mobile Action Bluetooth Mobile Phone Tool Soft...</td>\n",
       "      <td>Great product- tried others and this is a ten ...</td>\n",
       "      <td>164</td>\n",
       "      <td>1</td>\n",
       "      <td>2007-10-04</td>\n",
       "      <td>2007</td>\n",
       "      <td>10</td>\n",
       "      <td>4</td>\n",
       "      <td>3</td>\n",
       "      <td>0</td>\n",
       "      <td>0</td>\n",
       "    </tr>\n",
       "    <tr>\n",
       "      <th>2</th>\n",
       "      <td>mobile action ma730 handset manager - bluetoot...</td>\n",
       "      <td>unknown</td>\n",
       "      <td>A2NOQQ7I6PU7CW</td>\n",
       "      <td>4.0</td>\n",
       "      <td>good</td>\n",
       "      <td>works real good....a little hard to set up...w...</td>\n",
       "      <td>146</td>\n",
       "      <td>1</td>\n",
       "      <td>2007-08-10</td>\n",
       "      <td>2007</td>\n",
       "      <td>8</td>\n",
       "      <td>10</td>\n",
       "      <td>4</td>\n",
       "      <td>0</td>\n",
       "      <td>0</td>\n",
       "    </tr>\n",
       "    <tr>\n",
       "      <th>3</th>\n",
       "      <td>usb data cable for sony-ericsson z600, z500, z...</td>\n",
       "      <td>unknown</td>\n",
       "      <td>A29Q0CLOF0U8BN</td>\n",
       "      <td>4.0</td>\n",
       "      <td>No instructions included...</td>\n",
       "      <td>The price was right for this cable ($11.95+$4....</td>\n",
       "      <td>1340</td>\n",
       "      <td>1</td>\n",
       "      <td>2006-04-28</td>\n",
       "      <td>2006</td>\n",
       "      <td>4</td>\n",
       "      <td>28</td>\n",
       "      <td>4</td>\n",
       "      <td>4</td>\n",
       "      <td>5</td>\n",
       "    </tr>\n",
       "    <tr>\n",
       "      <th>4</th>\n",
       "      <td>usb data cable for sony-ericsson z600, z500, z...</td>\n",
       "      <td>unknown</td>\n",
       "      <td>ANNHJND2MHUI3</td>\n",
       "      <td>1.0</td>\n",
       "      <td>NOT A DATA CABLE</td>\n",
       "      <td>this is NOT a DATA CABLE this is only a USB ch...</td>\n",
       "      <td>66</td>\n",
       "      <td>0</td>\n",
       "      <td>2007-03-12</td>\n",
       "      <td>2007</td>\n",
       "      <td>3</td>\n",
       "      <td>12</td>\n",
       "      <td>0</td>\n",
       "      <td>0</td>\n",
       "      <td>0</td>\n",
       "    </tr>\n",
       "  </tbody>\n",
       "</table>\n",
       "</div>"
      ],
      "text/plain": [
       "                                               title    price         user_id  \\\n",
       "0  mobile action ma730 handset manager - bluetoot...  unknown  A1RXYH9ROBAKEZ   \n",
       "1  mobile action ma730 handset manager - bluetoot...  unknown   A7L6E1KSJTAJ6   \n",
       "2  mobile action ma730 handset manager - bluetoot...  unknown  A2NOQQ7I6PU7CW   \n",
       "3  usb data cable for sony-ericsson z600, z500, z...  unknown  A29Q0CLOF0U8BN   \n",
       "4  usb data cable for sony-ericsson z600, z500, z...  unknown   ANNHJND2MHUI3   \n",
       "\n",
       "   score                                            summary  \\\n",
       "0    1.0                                         Don't buy!   \n",
       "1    5.0  Mobile Action Bluetooth Mobile Phone Tool Soft...   \n",
       "2    4.0                                               good   \n",
       "3    4.0                        No instructions included...   \n",
       "4    1.0                                   NOT A DATA CABLE   \n",
       "\n",
       "                                                text  text_length  score_bool  \\\n",
       "0  First of all, the company took my money and se...          716           0   \n",
       "1  Great product- tried others and this is a ten ...          164           1   \n",
       "2  works real good....a little hard to set up...w...          146           1   \n",
       "3  The price was right for this cable ($11.95+$4....         1340           1   \n",
       "4  this is NOT a DATA CABLE this is only a USB ch...           66           0   \n",
       "\n",
       "        date  year  month  day  weekday  good_helpfulness  all_helpfulness  \n",
       "0 2009-01-31  2009      1   31        5                 0                0  \n",
       "1 2007-10-04  2007     10    4        3                 0                0  \n",
       "2 2007-08-10  2007      8   10        4                 0                0  \n",
       "3 2006-04-28  2006      4   28        4                 4                5  \n",
       "4 2007-03-12  2007      3   12        0                 0                0  "
      ]
     },
     "execution_count": 9,
     "metadata": {},
     "output_type": "execute_result"
    }
   ],
   "source": [
    "df.head()"
   ]
  },
  {
   "cell_type": "markdown",
   "id": "e1ce64fa",
   "metadata": {},
   "source": [
    "# Podstawowa analiza danych"
   ]
  },
  {
   "cell_type": "code",
   "execution_count": 10,
   "id": "d98a5084",
   "metadata": {},
   "outputs": [
    {
     "name": "stdout",
     "output_type": "stream",
     "text": [
      "Nazwy kolumn:\n",
      "['title', 'price', 'user_id', 'score', 'summary', 'text', 'text_length', 'score_bool', 'date', 'year', 'month', 'day', 'weekday', 'good_helpfulness', 'all_helpfulness']\n"
     ]
    }
   ],
   "source": [
    "print(\"Nazwy kolumn:\")\n",
    "print([column for column in df.columns])"
   ]
  },
  {
   "cell_type": "markdown",
   "id": "f5e605da",
   "metadata": {},
   "source": [
    "Podstawowe informacje o zbiorze"
   ]
  },
  {
   "cell_type": "code",
   "execution_count": 11,
   "id": "099c5fd7",
   "metadata": {},
   "outputs": [
    {
     "name": "stdout",
     "output_type": "stream",
     "text": [
      "<class 'pandas.core.frame.DataFrame'>\n",
      "Int64Index: 78347 entries, 0 to 78929\n",
      "Data columns (total 15 columns):\n",
      " #   Column            Non-Null Count  Dtype         \n",
      "---  ------            --------------  -----         \n",
      " 0   title             78347 non-null  object        \n",
      " 1   price             78347 non-null  object        \n",
      " 2   user_id           78347 non-null  object        \n",
      " 3   score             78347 non-null  float64       \n",
      " 4   summary           78347 non-null  object        \n",
      " 5   text              78347 non-null  object        \n",
      " 6   text_length       78347 non-null  int64         \n",
      " 7   score_bool        78347 non-null  int64         \n",
      " 8   date              78347 non-null  datetime64[ns]\n",
      " 9   year              78347 non-null  int64         \n",
      " 10  month             78347 non-null  int64         \n",
      " 11  day               78347 non-null  int64         \n",
      " 12  weekday           78347 non-null  int64         \n",
      " 13  good_helpfulness  78347 non-null  int64         \n",
      " 14  all_helpfulness   78347 non-null  int64         \n",
      "dtypes: datetime64[ns](1), float64(1), int64(8), object(5)\n",
      "memory usage: 9.6+ MB\n",
      "None\n"
     ]
    }
   ],
   "source": [
    "print(df.info())"
   ]
  },
  {
   "cell_type": "markdown",
   "id": "80083952",
   "metadata": {},
   "source": [
    "W zbiorze jest 1 kolumna zawierająca datę (format datetime64), 1 zawierająca liczby zmiennoprzecinkowe (float64), 6 kolumn zawierające liczby całkowite (int64) oraz 7 zawierających obiekty - w szczególności tekst (object). Można zauważyć, że w zbiorze nie ma wartości null. Jednakże isnieją wartości unknown, należy się temu dokładniej przyjrzeć."
   ]
  },
  {
   "cell_type": "code",
   "execution_count": 12,
   "id": "3cd953fd",
   "metadata": {},
   "outputs": [
    {
     "name": "stdout",
     "output_type": "stream",
     "text": [
      "Wartość 'unknown' jest w kolumnie price\n",
      "Wartość 'unknown' jest w kolumnie user_id\n"
     ]
    }
   ],
   "source": [
    "for column in df:\n",
    "    if 'unknown' in set(df[column]):\n",
    "        print(f\"Wartość 'unknown' jest w kolumnie {column}\")"
   ]
  },
  {
   "cell_type": "markdown",
   "id": "e7e1dd1d",
   "metadata": {},
   "source": [
    "Wartość unknown występuje tylko w 2 kolumnach.\n",
    "\n",
    "Następnie zobaczmy statystyki dla kolumn:"
   ]
  },
  {
   "cell_type": "code",
   "execution_count": 13,
   "id": "d7a3cf87",
   "metadata": {},
   "outputs": [
    {
     "data": {
      "text/html": [
       "<div>\n",
       "<style scoped>\n",
       "    .dataframe tbody tr th:only-of-type {\n",
       "        vertical-align: middle;\n",
       "    }\n",
       "\n",
       "    .dataframe tbody tr th {\n",
       "        vertical-align: top;\n",
       "    }\n",
       "\n",
       "    .dataframe thead th {\n",
       "        text-align: right;\n",
       "    }\n",
       "</style>\n",
       "<table border=\"1\" class=\"dataframe\">\n",
       "  <thead>\n",
       "    <tr style=\"text-align: right;\">\n",
       "      <th></th>\n",
       "      <th>title</th>\n",
       "      <th>price</th>\n",
       "      <th>user_id</th>\n",
       "      <th>summary</th>\n",
       "      <th>text</th>\n",
       "    </tr>\n",
       "  </thead>\n",
       "  <tbody>\n",
       "    <tr>\n",
       "      <th>count</th>\n",
       "      <td>78347</td>\n",
       "      <td>78347</td>\n",
       "      <td>78347</td>\n",
       "      <td>78347</td>\n",
       "      <td>78347</td>\n",
       "    </tr>\n",
       "    <tr>\n",
       "      <th>unique</th>\n",
       "      <td>7142</td>\n",
       "      <td>944</td>\n",
       "      <td>67715</td>\n",
       "      <td>59872</td>\n",
       "      <td>76851</td>\n",
       "    </tr>\n",
       "    <tr>\n",
       "      <th>top</th>\n",
       "      <td>plantronics voyager 510 bluetooth headset [ret...</td>\n",
       "      <td>unknown</td>\n",
       "      <td>unknown</td>\n",
       "      <td>Great Product</td>\n",
       "      <td>I had been very happy with my Motorola phone u...</td>\n",
       "    </tr>\n",
       "    <tr>\n",
       "      <th>freq</th>\n",
       "      <td>3443</td>\n",
       "      <td>42718</td>\n",
       "      <td>2145</td>\n",
       "      <td>211</td>\n",
       "      <td>20</td>\n",
       "    </tr>\n",
       "  </tbody>\n",
       "</table>\n",
       "</div>"
      ],
      "text/plain": [
       "                                                    title    price  user_id  \\\n",
       "count                                               78347    78347    78347   \n",
       "unique                                               7142      944    67715   \n",
       "top     plantronics voyager 510 bluetooth headset [ret...  unknown  unknown   \n",
       "freq                                                 3443    42718     2145   \n",
       "\n",
       "              summary                                               text  \n",
       "count           78347                                              78347  \n",
       "unique          59872                                              76851  \n",
       "top     Great Product  I had been very happy with my Motorola phone u...  \n",
       "freq              211                                                 20  "
      ]
     },
     "execution_count": 13,
     "metadata": {},
     "output_type": "execute_result"
    }
   ],
   "source": [
    "df.describe(include=['object'])"
   ]
  },
  {
   "cell_type": "code",
   "execution_count": 14,
   "id": "1321a063",
   "metadata": {},
   "outputs": [
    {
     "data": {
      "text/html": [
       "<div>\n",
       "<style scoped>\n",
       "    .dataframe tbody tr th:only-of-type {\n",
       "        vertical-align: middle;\n",
       "    }\n",
       "\n",
       "    .dataframe tbody tr th {\n",
       "        vertical-align: top;\n",
       "    }\n",
       "\n",
       "    .dataframe thead th {\n",
       "        text-align: right;\n",
       "    }\n",
       "</style>\n",
       "<table border=\"1\" class=\"dataframe\">\n",
       "  <thead>\n",
       "    <tr style=\"text-align: right;\">\n",
       "      <th></th>\n",
       "      <th>score</th>\n",
       "      <th>text_length</th>\n",
       "      <th>score_bool</th>\n",
       "      <th>year</th>\n",
       "      <th>month</th>\n",
       "      <th>day</th>\n",
       "      <th>weekday</th>\n",
       "      <th>good_helpfulness</th>\n",
       "      <th>all_helpfulness</th>\n",
       "    </tr>\n",
       "  </thead>\n",
       "  <tbody>\n",
       "    <tr>\n",
       "      <th>count</th>\n",
       "      <td>78347.0000</td>\n",
       "      <td>78347.0000</td>\n",
       "      <td>78347.0000</td>\n",
       "      <td>78347.0000</td>\n",
       "      <td>78347.0000</td>\n",
       "      <td>78347.0000</td>\n",
       "      <td>78347.0000</td>\n",
       "      <td>78347.0000</td>\n",
       "      <td>78347.0000</td>\n",
       "    </tr>\n",
       "    <tr>\n",
       "      <th>mean</th>\n",
       "      <td>3.5211</td>\n",
       "      <td>554.6420</td>\n",
       "      <td>0.6071</td>\n",
       "      <td>2007.5876</td>\n",
       "      <td>6.2257</td>\n",
       "      <td>15.5578</td>\n",
       "      <td>2.8553</td>\n",
       "      <td>3.0275</td>\n",
       "      <td>3.9351</td>\n",
       "    </tr>\n",
       "    <tr>\n",
       "      <th>std</th>\n",
       "      <td>1.5252</td>\n",
       "      <td>676.8945</td>\n",
       "      <td>0.4884</td>\n",
       "      <td>2.4223</td>\n",
       "      <td>3.6125</td>\n",
       "      <td>8.7511</td>\n",
       "      <td>1.9808</td>\n",
       "      <td>12.3190</td>\n",
       "      <td>13.3626</td>\n",
       "    </tr>\n",
       "    <tr>\n",
       "      <th>min</th>\n",
       "      <td>1.0000</td>\n",
       "      <td>6.0000</td>\n",
       "      <td>0.0000</td>\n",
       "      <td>1999.0000</td>\n",
       "      <td>1.0000</td>\n",
       "      <td>1.0000</td>\n",
       "      <td>0.0000</td>\n",
       "      <td>0.0000</td>\n",
       "      <td>0.0000</td>\n",
       "    </tr>\n",
       "    <tr>\n",
       "      <th>25%</th>\n",
       "      <td>2.0000</td>\n",
       "      <td>182.0000</td>\n",
       "      <td>0.0000</td>\n",
       "      <td>2006.0000</td>\n",
       "      <td>3.0000</td>\n",
       "      <td>8.0000</td>\n",
       "      <td>1.0000</td>\n",
       "      <td>0.0000</td>\n",
       "      <td>0.0000</td>\n",
       "    </tr>\n",
       "    <tr>\n",
       "      <th>50%</th>\n",
       "      <td>4.0000</td>\n",
       "      <td>344.0000</td>\n",
       "      <td>1.0000</td>\n",
       "      <td>2007.0000</td>\n",
       "      <td>6.0000</td>\n",
       "      <td>15.0000</td>\n",
       "      <td>3.0000</td>\n",
       "      <td>1.0000</td>\n",
       "      <td>1.0000</td>\n",
       "    </tr>\n",
       "    <tr>\n",
       "      <th>75%</th>\n",
       "      <td>5.0000</td>\n",
       "      <td>657.0000</td>\n",
       "      <td>1.0000</td>\n",
       "      <td>2009.0000</td>\n",
       "      <td>9.0000</td>\n",
       "      <td>23.0000</td>\n",
       "      <td>5.0000</td>\n",
       "      <td>3.0000</td>\n",
       "      <td>4.0000</td>\n",
       "    </tr>\n",
       "    <tr>\n",
       "      <th>max</th>\n",
       "      <td>5.0000</td>\n",
       "      <td>15622.0000</td>\n",
       "      <td>1.0000</td>\n",
       "      <td>2013.0000</td>\n",
       "      <td>12.0000</td>\n",
       "      <td>31.0000</td>\n",
       "      <td>6.0000</td>\n",
       "      <td>1222.0000</td>\n",
       "      <td>1243.0000</td>\n",
       "    </tr>\n",
       "  </tbody>\n",
       "</table>\n",
       "</div>"
      ],
      "text/plain": [
       "            score  text_length  score_bool        year       month  \\\n",
       "count  78347.0000   78347.0000  78347.0000  78347.0000  78347.0000   \n",
       "mean       3.5211     554.6420      0.6071   2007.5876      6.2257   \n",
       "std        1.5252     676.8945      0.4884      2.4223      3.6125   \n",
       "min        1.0000       6.0000      0.0000   1999.0000      1.0000   \n",
       "25%        2.0000     182.0000      0.0000   2006.0000      3.0000   \n",
       "50%        4.0000     344.0000      1.0000   2007.0000      6.0000   \n",
       "75%        5.0000     657.0000      1.0000   2009.0000      9.0000   \n",
       "max        5.0000   15622.0000      1.0000   2013.0000     12.0000   \n",
       "\n",
       "              day     weekday  good_helpfulness  all_helpfulness  \n",
       "count  78347.0000  78347.0000        78347.0000       78347.0000  \n",
       "mean      15.5578      2.8553            3.0275           3.9351  \n",
       "std        8.7511      1.9808           12.3190          13.3626  \n",
       "min        1.0000      0.0000            0.0000           0.0000  \n",
       "25%        8.0000      1.0000            0.0000           0.0000  \n",
       "50%       15.0000      3.0000            1.0000           1.0000  \n",
       "75%       23.0000      5.0000            3.0000           4.0000  \n",
       "max       31.0000      6.0000         1222.0000        1243.0000  "
      ]
     },
     "execution_count": 14,
     "metadata": {},
     "output_type": "execute_result"
    }
   ],
   "source": [
    "df.describe(include=['float64', 'int64'])"
   ]
  },
  {
   "cell_type": "markdown",
   "id": "63b90d4a",
   "metadata": {},
   "source": [
    "Najważniejsze informacje jakie można zaobserwować na podstawie tych statystyk:\n",
    "- title - występuje 7142 różnych przedmiotów. Najczęściej opiniowanym przedmiotem jest zestaw słuchawkowy Plantronics Voyager 510, ma on 3443 opinii.\n",
    "- price - 42718 opinii nie zawiera ceny przedmiotu. W ponad połowie zbioru nie ma tej wartości, nie wnosi ona użytecznych informacji. Można uzupełniać wartości różnymi metodami, np. wartością średnią lub medianą, ale w tym przypadku nie ma to sensu, należy usunąć całą kolumnę.\n",
    "- user_id - istnieje 78347 opinii wystawionych przez 67715 różnych użytkowników. W tym użytkownicy, którzy z jakiegoś powodu nie mają numeru id (przyczyn może być wiele, np. błąd zapisu w trakcie tworzenia bazy danych) wystawili 2145 opinii. W zależności od dalszej analizy, można usunąć te wiersze, ponieważ stanowią one tylko 2,7 % całości zbioru\n",
    "- summary - istnieje 59872 unikalnych streszczeń, co jest spowodowane popularnymi zwrotami, np. \"Great Product\", \"Works great\", \"Excellent\"\n",
    "- text - istnieje 76851 unikalnych opinii. Aż 20 jest takich samych, co jest mało prawdopodobne. Należy się temu dokładniej przyjrzeć\n",
    "- score - wartości score znajdują się w przedziale [1, 5] Co ciekawe, wartość 4 jest w 50 percentylu, oznacza to, że ponad połowa ocen ma wartość 4 lub 5.\n",
    "- text_length - długość tekstu jest w granicach od 6 znaków, aż do 15622. Wartość średnia wynosi 554, za to odchylenie standardowe jest bardzo wysokie - 676. 75 % osób napisało opinie poniże 657 znaków. 25 % osób napisało bardzo długie opinie, sięgające aż 15622 znaków, co bardzo wpłynęło na odchylenie standardowe.\n",
    "- score_bool - jest to wartość binarna, dlatego wartość minimalna, maksymalna oraz percentyle przyjęły tak równe wartości. Średnia wynosi 0.60, co potwierdza wnioski z kolumny score - większość opinii jest pozytywna, ma wartości 4 lub 5.\n",
    "- year - opinie są z lat 1999 - 2013. Średnia wyniosła 2007,58, a odchylenie standardowe 2,42, co oznacza, że dane są nieznacznie \"przesunięte w prawo\" i skoncentrowane wokół średniej.\n",
    "- month, day, weekday - z powyższych informacji wynika, że dane dla tych kolumn są w miarę równomiernie rozłożone\n",
    "- good_helpfulness - dane bardzo nierównomiernie rozłożone, ponad połowa opinii nie ma, lub ma tylko 1 pozytywną ocenę pomocności. Duże odchylenie standardowe oraz bardzo wysoka wartość maksimum, może być spowodowana ocenianiem przez użytkowników opinii, które wyświetlają się jako pierwsze na stronie.\n",
    "- all_helpfulness - wartości tej kolumny są bardzo związane z poprzednią, tylko dochodzą tutaj jeszcze negatywne oceny"
   ]
  },
  {
   "cell_type": "code",
   "execution_count": 15,
   "id": "5c2c0530",
   "metadata": {},
   "outputs": [],
   "source": [
    "# Usuń kolumnę price\n",
    "df.drop(['price'], axis=1, inplace=True)\n",
    "\n",
    "# Usuń wiersze bez user_id\n",
    "df = df[df['user_id'] != 'unknown']"
   ]
  },
  {
   "cell_type": "markdown",
   "id": "aff0d9c5",
   "metadata": {},
   "source": [
    "Przyjrzyjmy się dokładniej najczęstszej wartości z kolumny text"
   ]
  },
  {
   "cell_type": "code",
   "execution_count": 16,
   "id": "dd7e6568",
   "metadata": {},
   "outputs": [
    {
     "data": {
      "text/html": [
       "<div>\n",
       "<style scoped>\n",
       "    .dataframe tbody tr th:only-of-type {\n",
       "        vertical-align: middle;\n",
       "    }\n",
       "\n",
       "    .dataframe tbody tr th {\n",
       "        vertical-align: top;\n",
       "    }\n",
       "\n",
       "    .dataframe thead th {\n",
       "        text-align: right;\n",
       "    }\n",
       "</style>\n",
       "<table border=\"1\" class=\"dataframe\">\n",
       "  <thead>\n",
       "    <tr style=\"text-align: right;\">\n",
       "      <th></th>\n",
       "      <th>title</th>\n",
       "      <th>user_id</th>\n",
       "      <th>score</th>\n",
       "      <th>summary</th>\n",
       "      <th>text</th>\n",
       "      <th>text_length</th>\n",
       "      <th>score_bool</th>\n",
       "      <th>date</th>\n",
       "      <th>year</th>\n",
       "      <th>month</th>\n",
       "      <th>day</th>\n",
       "      <th>weekday</th>\n",
       "      <th>good_helpfulness</th>\n",
       "      <th>all_helpfulness</th>\n",
       "    </tr>\n",
       "  </thead>\n",
       "  <tbody>\n",
       "    <tr>\n",
       "      <th>10594</th>\n",
       "      <td>motorola i305 phone (nextel)</td>\n",
       "      <td>AJMBX04BZWPSD</td>\n",
       "      <td>1.0</td>\n",
       "      <td>Warranty? What warranty?</td>\n",
       "      <td>I had been very happy with my Motorola phone u...</td>\n",
       "      <td>892</td>\n",
       "      <td>0</td>\n",
       "      <td>2005-12-21</td>\n",
       "      <td>2005</td>\n",
       "      <td>12</td>\n",
       "      <td>21</td>\n",
       "      <td>2</td>\n",
       "      <td>1</td>\n",
       "      <td>4</td>\n",
       "    </tr>\n",
       "    <tr>\n",
       "      <th>14280</th>\n",
       "      <td>motorola c155 silver prepaid net10 cell phone</td>\n",
       "      <td>AJMBX04BZWPSD</td>\n",
       "      <td>1.0</td>\n",
       "      <td>Warranty? What warranty?</td>\n",
       "      <td>I had been very happy with my Motorola phone u...</td>\n",
       "      <td>892</td>\n",
       "      <td>0</td>\n",
       "      <td>2005-12-21</td>\n",
       "      <td>2005</td>\n",
       "      <td>12</td>\n",
       "      <td>21</td>\n",
       "      <td>2</td>\n",
       "      <td>19</td>\n",
       "      <td>22</td>\n",
       "    </tr>\n",
       "    <tr>\n",
       "      <th>15079</th>\n",
       "      <td>motorola i530 yellow phone (nextel)</td>\n",
       "      <td>AJMBX04BZWPSD</td>\n",
       "      <td>1.0</td>\n",
       "      <td>Warranty? What warranty?</td>\n",
       "      <td>I had been very happy with my Motorola phone u...</td>\n",
       "      <td>892</td>\n",
       "      <td>0</td>\n",
       "      <td>2005-12-21</td>\n",
       "      <td>2005</td>\n",
       "      <td>12</td>\n",
       "      <td>21</td>\n",
       "      <td>2</td>\n",
       "      <td>6</td>\n",
       "      <td>6</td>\n",
       "    </tr>\n",
       "  </tbody>\n",
       "</table>\n",
       "</div>"
      ],
      "text/plain": [
       "                                               title        user_id  score  \\\n",
       "10594                   motorola i305 phone (nextel)  AJMBX04BZWPSD    1.0   \n",
       "14280  motorola c155 silver prepaid net10 cell phone  AJMBX04BZWPSD    1.0   \n",
       "15079            motorola i530 yellow phone (nextel)  AJMBX04BZWPSD    1.0   \n",
       "\n",
       "                        summary  \\\n",
       "10594  Warranty? What warranty?   \n",
       "14280  Warranty? What warranty?   \n",
       "15079  Warranty? What warranty?   \n",
       "\n",
       "                                                    text  text_length  \\\n",
       "10594  I had been very happy with my Motorola phone u...          892   \n",
       "14280  I had been very happy with my Motorola phone u...          892   \n",
       "15079  I had been very happy with my Motorola phone u...          892   \n",
       "\n",
       "       score_bool       date  year  month  day  weekday  good_helpfulness  \\\n",
       "10594           0 2005-12-21  2005     12   21        2                 1   \n",
       "14280           0 2005-12-21  2005     12   21        2                19   \n",
       "15079           0 2005-12-21  2005     12   21        2                 6   \n",
       "\n",
       "       all_helpfulness  \n",
       "10594                4  \n",
       "14280               22  \n",
       "15079                6  "
      ]
     },
     "execution_count": 16,
     "metadata": {},
     "output_type": "execute_result"
    }
   ],
   "source": [
    "df[df['text'] == df['text'].value_counts().index[0]].head(3)"
   ]
  },
  {
   "cell_type": "markdown",
   "id": "531cf5ae",
   "metadata": {},
   "source": [
    "Widać tutaj, że pomimo dokładnie takiego samego tekstu opinii oraz daty, są to zupełnie różne opinie. Są one przypisane do innych przedmiotów oraz mają inne oceny pomocności."
   ]
  },
  {
   "cell_type": "code",
   "execution_count": 17,
   "id": "29e7ea34",
   "metadata": {},
   "outputs": [
    {
     "data": {
      "text/html": [
       "<div>\n",
       "<style scoped>\n",
       "    .dataframe tbody tr th:only-of-type {\n",
       "        vertical-align: middle;\n",
       "    }\n",
       "\n",
       "    .dataframe tbody tr th {\n",
       "        vertical-align: top;\n",
       "    }\n",
       "\n",
       "    .dataframe thead th {\n",
       "        text-align: right;\n",
       "    }\n",
       "</style>\n",
       "<table border=\"1\" class=\"dataframe\">\n",
       "  <thead>\n",
       "    <tr style=\"text-align: right;\">\n",
       "      <th></th>\n",
       "      <th>title</th>\n",
       "      <th>user_id</th>\n",
       "      <th>score</th>\n",
       "      <th>summary</th>\n",
       "      <th>text</th>\n",
       "      <th>text_length</th>\n",
       "      <th>score_bool</th>\n",
       "      <th>date</th>\n",
       "      <th>year</th>\n",
       "      <th>month</th>\n",
       "      <th>day</th>\n",
       "      <th>weekday</th>\n",
       "      <th>good_helpfulness</th>\n",
       "      <th>all_helpfulness</th>\n",
       "    </tr>\n",
       "  </thead>\n",
       "  <tbody>\n",
       "    <tr>\n",
       "      <th>0</th>\n",
       "      <td>mobile action ma730 handset manager - bluetoot...</td>\n",
       "      <td>A1RXYH9ROBAKEZ</td>\n",
       "      <td>1.0</td>\n",
       "      <td>Don't buy!</td>\n",
       "      <td>First of all, the company took my money and se...</td>\n",
       "      <td>716</td>\n",
       "      <td>0</td>\n",
       "      <td>2009-01-31</td>\n",
       "      <td>2009</td>\n",
       "      <td>1</td>\n",
       "      <td>31</td>\n",
       "      <td>5</td>\n",
       "      <td>0</td>\n",
       "      <td>0</td>\n",
       "    </tr>\n",
       "    <tr>\n",
       "      <th>1</th>\n",
       "      <td>mobile action ma730 handset manager - bluetoot...</td>\n",
       "      <td>A7L6E1KSJTAJ6</td>\n",
       "      <td>5.0</td>\n",
       "      <td>Mobile Action Bluetooth Mobile Phone Tool Soft...</td>\n",
       "      <td>Great product- tried others and this is a ten ...</td>\n",
       "      <td>164</td>\n",
       "      <td>1</td>\n",
       "      <td>2007-10-04</td>\n",
       "      <td>2007</td>\n",
       "      <td>10</td>\n",
       "      <td>4</td>\n",
       "      <td>3</td>\n",
       "      <td>0</td>\n",
       "      <td>0</td>\n",
       "    </tr>\n",
       "    <tr>\n",
       "      <th>2</th>\n",
       "      <td>mobile action ma730 handset manager - bluetoot...</td>\n",
       "      <td>A2NOQQ7I6PU7CW</td>\n",
       "      <td>4.0</td>\n",
       "      <td>good</td>\n",
       "      <td>works real good....a little hard to set up...w...</td>\n",
       "      <td>146</td>\n",
       "      <td>1</td>\n",
       "      <td>2007-08-10</td>\n",
       "      <td>2007</td>\n",
       "      <td>8</td>\n",
       "      <td>10</td>\n",
       "      <td>4</td>\n",
       "      <td>0</td>\n",
       "      <td>0</td>\n",
       "    </tr>\n",
       "    <tr>\n",
       "      <th>3</th>\n",
       "      <td>usb data cable for sony-ericsson z600, z500, z...</td>\n",
       "      <td>A29Q0CLOF0U8BN</td>\n",
       "      <td>4.0</td>\n",
       "      <td>No instructions included...</td>\n",
       "      <td>The price was right for this cable ($11.95+$4....</td>\n",
       "      <td>1340</td>\n",
       "      <td>1</td>\n",
       "      <td>2006-04-28</td>\n",
       "      <td>2006</td>\n",
       "      <td>4</td>\n",
       "      <td>28</td>\n",
       "      <td>4</td>\n",
       "      <td>4</td>\n",
       "      <td>5</td>\n",
       "    </tr>\n",
       "    <tr>\n",
       "      <th>4</th>\n",
       "      <td>usb data cable for sony-ericsson z600, z500, z...</td>\n",
       "      <td>ANNHJND2MHUI3</td>\n",
       "      <td>1.0</td>\n",
       "      <td>NOT A DATA CABLE</td>\n",
       "      <td>this is NOT a DATA CABLE this is only a USB ch...</td>\n",
       "      <td>66</td>\n",
       "      <td>0</td>\n",
       "      <td>2007-03-12</td>\n",
       "      <td>2007</td>\n",
       "      <td>3</td>\n",
       "      <td>12</td>\n",
       "      <td>0</td>\n",
       "      <td>0</td>\n",
       "      <td>0</td>\n",
       "    </tr>\n",
       "  </tbody>\n",
       "</table>\n",
       "</div>"
      ],
      "text/plain": [
       "                                               title         user_id  score  \\\n",
       "0  mobile action ma730 handset manager - bluetoot...  A1RXYH9ROBAKEZ    1.0   \n",
       "1  mobile action ma730 handset manager - bluetoot...   A7L6E1KSJTAJ6    5.0   \n",
       "2  mobile action ma730 handset manager - bluetoot...  A2NOQQ7I6PU7CW    4.0   \n",
       "3  usb data cable for sony-ericsson z600, z500, z...  A29Q0CLOF0U8BN    4.0   \n",
       "4  usb data cable for sony-ericsson z600, z500, z...   ANNHJND2MHUI3    1.0   \n",
       "\n",
       "                                             summary  \\\n",
       "0                                         Don't buy!   \n",
       "1  Mobile Action Bluetooth Mobile Phone Tool Soft...   \n",
       "2                                               good   \n",
       "3                        No instructions included...   \n",
       "4                                   NOT A DATA CABLE   \n",
       "\n",
       "                                                text  text_length  score_bool  \\\n",
       "0  First of all, the company took my money and se...          716           0   \n",
       "1  Great product- tried others and this is a ten ...          164           1   \n",
       "2  works real good....a little hard to set up...w...          146           1   \n",
       "3  The price was right for this cable ($11.95+$4....         1340           1   \n",
       "4  this is NOT a DATA CABLE this is only a USB ch...           66           0   \n",
       "\n",
       "        date  year  month  day  weekday  good_helpfulness  all_helpfulness  \n",
       "0 2009-01-31  2009      1   31        5                 0                0  \n",
       "1 2007-10-04  2007     10    4        3                 0                0  \n",
       "2 2007-08-10  2007      8   10        4                 0                0  \n",
       "3 2006-04-28  2006      4   28        4                 4                5  \n",
       "4 2007-03-12  2007      3   12        0                 0                0  "
      ]
     },
     "execution_count": 17,
     "metadata": {},
     "output_type": "execute_result"
    }
   ],
   "source": [
    "df.head()"
   ]
  },
  {
   "cell_type": "markdown",
   "id": "787d9f77",
   "metadata": {},
   "source": [
    "# Przedstawienie danych na wykresach\n",
    "Funkcja pomocnicza do ustawiania właściwości wykresu"
   ]
  },
  {
   "cell_type": "code",
   "execution_count": 33,
   "id": "1eac9b68",
   "metadata": {},
   "outputs": [],
   "source": [
    "def set_plot_properties(title, xlabel, ylabel):\n",
    "    plt.title(title)\n",
    "    plt.xlabel(xlabel)\n",
    "    plt.ylabel(ylabel)\n",
    "    plt.legend()\n",
    "    plt.show()"
   ]
  },
  {
   "cell_type": "code",
   "execution_count": 59,
   "id": "2d695ccf",
   "metadata": {},
   "outputs": [
    {
     "data": {
      "image/png": "[encoded data removed]",
      "text/plain": [
       "<Figure size 864x432 with 1 Axes>"
      ]
     },
     "metadata": {
      "needs_background": "light"
     },
     "output_type": "display_data"
    }
   ],
   "source": [
    "figure_size=(12, 6)\n",
    "\n",
    "df['text_length'].where(df['score_bool'] == 1).plot(bins=50, kind='hist', label='Pozytywne opinie', figsize=figure_size)\n",
    "df['text_length'].where(df['score_bool'] == 0).plot(bins=50, kind='hist', label='Negatywne opinie', figsize=figure_size)\n",
    "set_plot_properties('Liczba opinii w zależności od długości tekstu', 'Długość tekstu', 'Ilość opinii')"
   ]
  },
  {
   "cell_type": "markdown",
   "id": "5335a4f1",
   "metadata": {},
   "source": [
    "Na wykresie widać, że pozytytwne opinii jest zdecydowanie więcej. Rozkładają się one podobnie. Zakres długości tekstu jest do 16000, wynika to z najdłuższej opinii, która ma 15622 znaków. Nie widać jej na wykresie, ponieważ tak długich opinii jest zbyt mało w porównaniu do tych z mniejszą ilością znaków."
   ]
  },
  {
   "cell_type": "code",
   "execution_count": 60,
   "id": "6c237207",
   "metadata": {},
   "outputs": [
    {
     "data": {
      "image/png": "[encoded data removed]",
      "text/plain": [
       "<Figure size 864x432 with 1 Axes>"
      ]
     },
     "metadata": {
      "needs_background": "light"
     },
     "output_type": "display_data"
    }
   ],
   "source": [
    "df['year'].value_counts().sort_index().plot(kind='bar', label='Ilość opinii', figsize=figure_size)\n",
    "set_plot_properties(\"Ilość opinii w zależności od roku\", 'Rok', 'Ilość opinii')"
   ]
  },
  {
   "cell_type": "markdown",
   "id": "f60e4a80",
   "metadata": {},
   "source": [
    "Do 2007 roku widać wykładniczy wzrost liczby opinii, co może być spowodowane zwiększeniem zapotrzebowania na telefony komórkowe oraz akcesoria. W 2008 roku widać spadek o około 6000, może to być spowodowane kryzysem gospodarczym (klienci nie kupowali telefonów komórkowych oraz akcesoriów, więc nie wystawiali opinii). Nie tłumaczy to jednak spadku ilości opinii w następnych latach. Sprzedaż komórek na rynku znacząco rosła w tych latach, a ilość opinii malała. Może to być spowodowane zmniejszeniem sie sprzedaży bezmośrednio u firmy Amazon, może być też spowodowane wzrostem niechęci do wystawiania komentarzy. Jednakże najprawdopodobniejszym wyjaśnieniem jest sposób zbierania danych. Nie udało mi się dotrzeć do informacji w jaki sposób było to przeprowadzone."
   ]
  },
  {
   "cell_type": "code",
   "execution_count": 61,
   "id": "3372f8c2",
   "metadata": {},
   "outputs": [
    {
     "data": {
      "image/png": "[encoded data removed]",
      "text/plain": [
       "<Figure size 864x432 with 1 Axes>"
      ]
     },
     "metadata": {
      "needs_background": "light"
     },
     "output_type": "display_data"
    }
   ],
   "source": [
    "df['month'].value_counts().sort_index().plot(kind='bar', label='Ilość opinii', figsize=figure_size)\n",
    "set_plot_properties(\"Ilość opinii w zależności od miesiąca\", 'Miesiąc', 'Ilość opinii')"
   ]
  },
  {
   "cell_type": "markdown",
   "id": "6d3013d5",
   "metadata": {},
   "source": []
  },
  {
   "cell_type": "code",
   "execution_count": 62,
   "id": "dd74b0a0",
   "metadata": {},
   "outputs": [
    {
     "data": {
      "image/png": "[encoded data removed]",
      "text/plain": [
       "<Figure size 864x432 with 1 Axes>"
      ]
     },
     "metadata": {
      "needs_background": "light"
     },
     "output_type": "display_data"
    }
   ],
   "source": [
    "df['day'].value_counts().sort_index().plot(kind='bar', label='Ilość opinii', figsize=figure_size)\n",
    "set_plot_properties(\"Ilość opinii w zależności od dnia\", 'Dzień', 'Ilość opinii')"
   ]
  },
  {
   "cell_type": "markdown",
   "id": "5a74efaa",
   "metadata": {},
   "source": []
  },
  {
   "cell_type": "code",
   "execution_count": 63,
   "id": "0a239705",
   "metadata": {},
   "outputs": [
    {
     "data": {
      "image/png": "[encoded data removed]",
      "text/plain": [
       "<Figure size 864x432 with 1 Axes>"
      ]
     },
     "metadata": {
      "needs_background": "light"
     },
     "output_type": "display_data"
    }
   ],
   "source": [
    "df['weekday'].value_counts().sort_index().plot(kind='bar', label='Ilość opinii', figsize=figure_size)\n",
    "set_plot_properties(\"Ilość opinii w zależności od dnia tygodnia\", 'Dzień tygodnia', 'Ilość opinii')"
   ]
  },
  {
   "cell_type": "markdown",
   "id": "e3432165",
   "metadata": {},
   "source": []
  },
  {
   "cell_type": "code",
   "execution_count": 64,
   "id": "f5d2fb4f",
   "metadata": {},
   "outputs": [
    {
     "data": {
      "image/png": "[encoded data removed]",
      "text/plain": [
       "<Figure size 864x432 with 1 Axes>"
      ]
     },
     "metadata": {
      "needs_background": "light"
     },
     "output_type": "display_data"
    }
   ],
   "source": [
    "df['score'].value_counts().sort_index().plot(kind='bar', label='Ilość opinii', figsize=figure_size)\n",
    "set_plot_properties(\"Ilość wystawionych ocen\", 'Ocena', 'Ilość opinii')"
   ]
  },
  {
   "cell_type": "markdown",
   "id": "a84b49fd",
   "metadata": {},
   "source": []
  },
  {
   "cell_type": "code",
   "execution_count": 65,
   "id": "42c96699",
   "metadata": {},
   "outputs": [
    {
     "data": {
      "image/png": "[encoded data removed]",
      "text/plain": [
       "<Figure size 864x432 with 1 Axes>"
      ]
     },
     "metadata": {},
     "output_type": "display_data"
    }
   ],
   "source": [
    "df['score'].value_counts().sort_index().plot(kind='pie', label='Ilość opinii', figsize=figure_size)\n",
    "set_plot_properties(\"Ilość wystawionych ocen\", 'Ocena', 'Ilość opinii')"
   ]
  },
  {
   "cell_type": "markdown",
   "id": "ce14bf1d",
   "metadata": {},
   "source": []
  },
  {
   "cell_type": "code",
   "execution_count": 66,
   "id": "b5a473fc",
   "metadata": {},
   "outputs": [
    {
     "data": {
      "image/png": "[encoded data removed]",
      "text/plain": [
       "<Figure size 864x432 with 1 Axes>"
      ]
     },
     "metadata": {
      "needs_background": "light"
     },
     "output_type": "display_data"
    }
   ],
   "source": [
    "df['year'].where(df['score_bool'] == 1).value_counts().sort_index().plot(kind='bar', label='Dobre opinie', figsize=figure_size)\n",
    "df['year'].where(df['score_bool'] == 0).value_counts().sort_index().plot(kind='bar', label='Złe opinie', \n",
    "                                                                         color='g', figsize=figure_size)\n",
    "set_plot_properties(\"Ilość dobrych/złych opinii w zależności od roku\", 'Rok', 'Ilość opinii')"
   ]
  },
  {
   "cell_type": "markdown",
   "id": "f26a638f",
   "metadata": {},
   "source": []
  },
  {
   "cell_type": "code",
   "execution_count": 67,
   "id": "9244bd5b",
   "metadata": {},
   "outputs": [
    {
     "data": {
      "image/png": "[encoded data removed]",
      "text/plain": [
       "<Figure size 864x432 with 1 Axes>"
      ]
     },
     "metadata": {
      "needs_background": "light"
     },
     "output_type": "display_data"
    }
   ],
   "source": [
    "df.groupby('score')['text_length'].mean().plot(kind='bar', label='Długość tekstu', figsize=figure_size)\n",
    "set_plot_properties(\"Długość tekstu w zależności od oceny\", 'Ocena', 'Długość tekstu')"
   ]
  },
  {
   "cell_type": "markdown",
   "id": "a5cc677f",
   "metadata": {},
   "source": []
  },
  {
   "cell_type": "code",
   "execution_count": 68,
   "id": "58905d50",
   "metadata": {},
   "outputs": [
    {
     "data": {
      "image/png": "[encoded data removed]",
      "text/plain": [
       "<Figure size 864x432 with 1 Axes>"
      ]
     },
     "metadata": {
      "needs_background": "light"
     },
     "output_type": "display_data"
    }
   ],
   "source": [
    "df.groupby('score_bool')['text_length'].mean().plot(kind='bar', label='Długość tekstu', figsize=figure_size)\n",
    "set_plot_properties(\"Długość tekstu w zależności od oceny (pozytywna/neagtywna)\", \n",
    "                    'Ocena (pozytywna/neagtywna)', 'Długość tekstu')"
   ]
  },
  {
   "cell_type": "markdown",
   "id": "abe4eaba",
   "metadata": {},
   "source": []
  },
  {
   "cell_type": "code",
   "execution_count": 97,
   "id": "ef66f341",
   "metadata": {},
   "outputs": [
    {
     "data": {
      "image/png": "[encoded data removed]",
      "text/plain": [
       "<Figure size 864x432 with 1 Axes>"
      ]
     },
     "metadata": {
      "needs_background": "light"
     },
     "output_type": "display_data"
    }
   ],
   "source": [
    "df['title'].value_counts()[:10].plot(kind='bar', label='Ilość opinii', figsize=figure_size)\n",
    "plt.xticks([i for i in range(10)], labels=[str(xtick[:25]) + '...' for xtick in df['title'].value_counts().index[:10]])\n",
    "set_plot_properties(\"Najczęściej opiniowe produkty\", 'Nazwa', 'Ilość opinii')"
   ]
  },
  {
   "cell_type": "markdown",
   "id": "cfd5dd88",
   "metadata": {},
   "source": []
  },
  {
   "cell_type": "code",
   "execution_count": 99,
   "id": "73622177",
   "metadata": {},
   "outputs": [
    {
     "data": {
      "image/png": "[encoded data removed]",
      "text/plain": [
       "<Figure size 864x432 with 1 Axes>"
      ]
     },
     "metadata": {
      "needs_background": "light"
     },
     "output_type": "display_data"
    }
   ],
   "source": [
    "df['title'].value_counts()[-10:].plot(kind='bar', label='Ilość opinii', figsize=figure_size)\n",
    "plt.xticks([i for i in range(10)], labels=[str(xtick[:25]) + '...' for xtick in df['title'].value_counts().index[-10:]])\n",
    "set_plot_properties(\"Najrzadziej opiniowe produkty\", 'Nazwa', 'Ilość opinii')"
   ]
  },
  {
   "cell_type": "markdown",
   "id": "2e0dce57",
   "metadata": {},
   "source": []
  },
  {
   "cell_type": "markdown",
   "id": "7fe4286a",
   "metadata": {},
   "source": [
    "# Polecanie produktów innym użytkownikom\n",
    "### Sposób 1\n",
    "Określenie par przedmiotów, które są najczęściej komentowane przez użytkowników. Jeżeli osoba kupi przedmiot, można jej polecić przedmioty, którym użytkownicy wystawili najwięcej opinii. "
   ]
  },
  {
   "cell_type": "code",
   "execution_count": null,
   "id": "4d63f5bf",
   "metadata": {},
   "outputs": [],
   "source": [
    "# Skopiowanie danych\n",
    "df_bought_together = df.copy()\n",
    "\n",
    "# 1 użytkownik mógł wystawić wiele opinii do tego samego produktu, co będzie w tej chwili generowało niepotrzebne powtórzenia\n",
    "df_bought_together = df_bought_together.drop_duplicates(subset=['title', 'user_id'])\n",
    "\n",
    "# Utworzenie nowego DataFrame z użytkownikami, którzy wystawili przynajmniej 2 opinie\n",
    "df_bought_together = df_bought_together[df_bought_together['user_id'].duplicated(keep=False)]\n",
    "\n",
    "# Utworzenie kolumny, w której są wszystkie produkty, którym użytkownik wystawił opinię\n",
    "df_bought_together['grouped_products'] = df_bought_together.groupby('user_id')['title'].transform(lambda x: ';;;'.join(x))\n",
    "\n",
    "# Zostawienie tylko 2 potrzebnych kolumn, oraz usunięcie duplikatów, które powstały w wyniku poprzedniej operacji\n",
    "df_bought_together = df_bought_together[['user_id', 'grouped_products']].drop_duplicates()\n",
    "\n",
    "count = Counter()\n",
    "\n",
    "# Policzenie wystąpień par przedmiotów\n",
    "for row in df_bought_together['grouped_products']:\n",
    "    product_list = row.split(';;;')\n",
    "    count.update(Counter(combinations(product_list, 2)))\n",
    "\n",
    "# Wypisanie najczęściej kupowanych ze sobą par przedmiotów\n",
    "for key, value in count.most_common(5):\n",
    "    print(f'Przedmiot 1: {key[0]}\\nPrzedmiot 2: {key[1]}\\nLiczba klientów, ' +\n",
    "          f'którzy wystawili opinię do obu produktów :{value}\\n')"
   ]
  },
  {
   "cell_type": "markdown",
   "id": "a8f7b10c",
   "metadata": {},
   "source": [
    "Na przykład, jeżeli klient kupi motorola h700 bluetooth headset [motorola retail packaging], można jej polecić pokrowiec motorola blt-04 bluetooth headset carrying case. Opinię do tych dwóch przedmiotów wystawiło 20 użytkowników.\n",
    "Ta strategia powinna podnieść sprzedaż, ale na pewno lepszym rozwiązaniem byłoby wykorzystanie tej metody na danych sprzedażowych, nie na opiniach.\n",
    "Główną wadą tego sposobu jest, to, że klient musi wystawić opinię, aby na tej podstawie mogła być wyświetlona propozycja produktu. Dlatego przechodzę do sposobu 2, gdzie nie są wymagana wcześniejsze zakupy użytkownika.\n",
    "### Sposób 2\n",
    "Bardzo prosta, ale skuteczna metoda - proponowanie użytkownikom produktów, które mają najwięcej pozytywnych opinii."
   ]
  },
  {
   "cell_type": "code",
   "execution_count": null,
   "id": "c89cd4a9",
   "metadata": {},
   "outputs": [],
   "source": [
    "temp_df = df[df['score'] == 1]\n",
    "temp_df = temp_df['title'].value_counts().head()\n",
    "for title, value in temp_df.iteritems():\n",
    "    print(f'Przedmiot: {title}\\nilość pozytywnych opinii: {value}\\n')"
   ]
  },
  {
   "cell_type": "code",
   "execution_count": null,
   "id": "01d6640b",
   "metadata": {},
   "outputs": [],
   "source": []
  }
 ],
 "metadata": {
  "kernelspec": {
   "display_name": "Python 3.7 (tensorflow)",
   "language": "python",
   "name": "tensorflow"
  },
  "language_info": {
   "codemirror_mode": {
    "name": "ipython",
    "version": 3
   },
   "file_extension": ".py",
   "mimetype": "text/x-python",
   "name": "python",
   "nbconvert_exporter": "python",
   "pygments_lexer": "ipython3",
   "version": "3.7.10"
  }
 },
 "nbformat": 4,
 "nbformat_minor": 5
}
